{
 "cells": [
  {
   "cell_type": "markdown",
   "id": "d15d8294-3328-4e07-ad16-8a03e9bbfdb9",
   "metadata": {},
   "source": [
    "# YOUR FIRST LAB\n",
    "### Please read this section. This is valuable to get you prepared, even if it's a long read -- it's important stuff.\n",
    "\n",
    "## Your first Frontier LLM Project\n",
    "\n",
    "Let's build a useful LLM solution - in a matter of minutes.\n",
    "\n",
    "By the end of this course, you will have built an autonomous Agentic AI solution with 7 agents that collaborate to solve a business problem. All in good time! We will start with something smaller...\n",
    "\n",
    "Our goal is to code a new kind of Web Browser. Give it a URL, and it will respond with a summary. The Reader's Digest of the internet!!\n",
    "\n",
    "Before starting, you should have completed the setup for [PC](../SETUP-PC.md) or [Mac](../SETUP-mac.md) and you hopefully launched this jupyter lab from within the project root directory, with your environment activated.\n",
    "\n",
    "## If you're new to Jupyter Lab\n",
    "\n",
    "Welcome to the wonderful world of Data Science experimentation! Once you've used Jupyter Lab, you'll wonder how you ever lived without it. Simply click in each \"cell\" with code in it, such as the cell immediately below this text, and hit Shift+Return to execute that cell. As you wish, you can add a cell with the + button in the toolbar, and print values of variables, or try out variations.  \n",
    "\n",
    "I've written a notebook called [Guide to Jupyter](Guide%20to%20Jupyter.ipynb) to help you get more familiar with Jupyter Labs, including adding Markdown comments, using `!` to run shell commands, and `tqdm` to show progress.\n",
    "\n",
    "## If you're new to the Command Line\n",
    "\n",
    "Please see these excellent guides: [Command line on PC](https://chatgpt.com/share/67b0acea-ba38-8012-9c34-7a2541052665) and [Command line on Mac](https://chatgpt.com/canvas/shared/67b0b10c93a081918210723867525d2b).  \n",
    "\n",
    "## If you'd prefer to work in IDEs\n",
    "\n",
    "If you're more comfortable in IDEs like VSCode, Cursor or PyCharm, they both work great with these lab notebooks too.  \n",
    "If you'd prefer to work in VSCode, [here](https://chatgpt.com/share/676f2e19-c228-8012-9911-6ca42f8ed766) are instructions from an AI friend on how to configure it for the course.\n",
    "\n",
    "## If you'd like to brush up your Python\n",
    "\n",
    "I've added a notebook called [Intermediate Python](Intermediate%20Python.ipynb) to get you up to speed. But you should give it a miss if you already have a good idea what this code does:    \n",
    "`yield from {book.get(\"author\") for book in books if book.get(\"author\")}`\n",
    "\n",
    "## I am here to help\n",
    "\n",
    "If you have any problems at all, please do reach out.  \n",
    "I'm available through the platform, or at ed@edwarddonner.com, or at https://www.linkedin.com/in/eddonner/ if you'd like to connect (and I love connecting!)  \n",
    "And this is new to me, but I'm also trying out X/Twitter at [@edwarddonner](https://x.com/edwarddonner) - if you're on X, please show me how it's done 😂  \n",
    "\n",
    "## More troubleshooting\n",
    "\n",
    "Please see the [troubleshooting](troubleshooting.ipynb) notebook in this folder to diagnose and fix common problems. At the very end of it is a diagnostics script with some useful debug info.\n",
    "\n",
    "## For foundational technical knowledge (eg Git, APIs, debugging) \n",
    "\n",
    "If you're relatively new to programming -- I've got your back! While it's ideal to have some programming experience for this course, there's only one mandatory prerequisite: plenty of patience. 😁 I've put together a set of self-study guides that cover Git and GitHub, APIs and endpoints, beginner python and more.\n",
    "\n",
    "This covers Git and GitHub; what they are, the difference, and how to use them:  \n",
    "https://github.com/ed-donner/agents/blob/main/guides/03_git_and_github.ipynb\n",
    "\n",
    "This covers technical foundations:  \n",
    "ChatGPT vs API; taking screenshots; Environment Variables; Networking basics; APIs and endpoints:  \n",
    "https://github.com/ed-donner/agents/blob/main/guides/04_technical_foundations.ipynb\n",
    "\n",
    "This covers Python for beginners, and making sure that a `NameError` never trips you up:  \n",
    "https://github.com/ed-donner/agents/blob/main/guides/06_python_foundations.ipynb\n",
    "\n",
    "This covers the essential techniques for figuring out errors:  \n",
    "https://github.com/ed-donner/agents/blob/main/guides/08_debugging.ipynb\n",
    "\n",
    "And you'll find other useful guides in the same folder in GitHub. Some information applies to my other Udemy course (eg Async Python) but most of it is very relevant for LLM engineering.\n",
    "\n",
    "## If this is old hat!\n",
    "\n",
    "If you're already comfortable with today's material, please hang in there; you can move swiftly through the first few labs - we will get much more in depth as the weeks progress. Ultimately we will fine-tune our own LLM to compete with OpenAI!\n",
    "\n",
    "<table style=\"margin: 0; text-align: left;\">\n",
    "    <tr>\n",
    "        <td style=\"width: 150px; height: 150px; vertical-align: middle;\">\n",
    "            <img src=\"../important.jpg\" width=\"150\" height=\"150\" style=\"display: block;\" />\n",
    "        </td>\n",
    "        <td>\n",
    "            <h2 style=\"color:#900;\">Please read - important note</h2>\n",
    "            <span style=\"color:#900;\">The way I collaborate with you may be different to other courses you've taken. I prefer not to type code while you watch. Rather, I execute Jupyter Labs, like this, and give you an intuition for what's going on. My suggestion is that you carefully execute this yourself, <b>after</b> watching the lecture. Add print statements to understand what's going on, and then come up with your own variations. If you have a Github account, use this to showcase your variations. Not only is this essential practice, but it demonstrates your skills to others, including perhaps future clients or employers...</span>\n",
    "        </td>\n",
    "    </tr>\n",
    "</table>\n",
    "<table style=\"margin: 0; text-align: left;\">\n",
    "    <tr>\n",
    "        <td style=\"width: 150px; height: 150px; vertical-align: middle;\">\n",
    "            <img src=\"../resources.jpg\" width=\"150\" height=\"150\" style=\"display: block;\" />\n",
    "        </td>\n",
    "        <td>\n",
    "            <h2 style=\"color:#f71;\">This code is a live resource - keep an eye out for my emails</h2>\n",
    "            <span style=\"color:#f71;\">I push updates to the code regularly. As people ask questions, I add more examples or improved commentary. As a result, you'll notice that the code below isn't identical to the videos. Everything from the videos is here; but I've also added better explanations and new models like DeepSeek. Consider this like an interactive book.<br/><br/>\n",
    "                I try to send emails regularly with important updates related to the course. You can find this in the 'Announcements' section of Udemy in the left sidebar. You can also choose to receive my emails via your Notification Settings in Udemy. I'm respectful of your inbox and always try to add value with my emails!\n",
    "            </span>\n",
    "        </td>\n",
    "    </tr>\n",
    "</table>\n",
    "<table style=\"margin: 0; text-align: left;\">\n",
    "    <tr>\n",
    "        <td style=\"width: 150px; height: 150px; vertical-align: middle;\">\n",
    "            <img src=\"../business.jpg\" width=\"150\" height=\"150\" style=\"display: block;\" />\n",
    "        </td>\n",
    "        <td>\n",
    "            <h2 style=\"color:#181;\">Business value of these exercises</h2>\n",
    "            <span style=\"color:#181;\">A final thought. While I've designed these notebooks to be educational, I've also tried to make them enjoyable. We'll do fun things like have LLMs tell jokes and argue with each other. But fundamentally, my goal is to teach skills you can apply in business. I'll explain business implications as we go, and it's worth keeping this in mind: as you build experience with models and techniques, think of ways you could put this into action at work today. Please do contact me if you'd like to discuss more or if you have ideas to bounce off me.</span>\n",
    "        </td>\n",
    "    </tr>\n",
    "</table>"
   ]
  },
  {
   "cell_type": "code",
   "execution_count": 1,
   "id": "4e2a9393-7767-488e-a8bf-27c12dca35bd",
   "metadata": {},
   "outputs": [],
   "source": [
    "# imports\n",
    "\n",
    "import os\n",
    "import requests\n",
    "from dotenv import load_dotenv\n",
    "from bs4 import BeautifulSoup\n",
    "from IPython.display import Markdown, display\n",
    "from openai import OpenAI\n",
    "\n",
    "# If you get an error running this cell, then please head over to the troubleshooting notebook!"
   ]
  },
  {
   "cell_type": "markdown",
   "id": "6900b2a8-6384-4316-8aaa-5e519fca4254",
   "metadata": {},
   "source": [
    "# Connecting to OpenAI (or Ollama)\n",
    "\n",
    "The next cell is where we load in the environment variables in your `.env` file and connect to OpenAI.  \n",
    "\n",
    "If you'd like to use free Ollama instead, please see the README section \"Free Alternative to Paid APIs\", and if you're not sure how to do this, there's a full solution in the solutions folder (day1_with_ollama.ipynb).\n",
    "\n",
    "## Troubleshooting if you have problems:\n",
    "\n",
    "Head over to the [troubleshooting](troubleshooting.ipynb) notebook in this folder for step by step code to identify the root cause and fix it!\n",
    "\n",
    "If you make a change, try restarting the \"Kernel\" (the python process sitting behind this notebook) by Kernel menu >> Restart Kernel and Clear Outputs of All Cells. Then try this notebook again, starting at the top.\n",
    "\n",
    "Or, contact me! Message me or email ed@edwarddonner.com and we will get this to work.\n",
    "\n",
    "Any concerns about API costs? See my notes in the README - costs should be minimal, and you can control it at every point. You can also use Ollama as a free alternative, which we discuss during Day 2."
   ]
  },
  {
   "cell_type": "code",
   "execution_count": 2,
   "id": "7b87cadb-d513-4303-baee-a37b6f938e4d",
   "metadata": {},
   "outputs": [
    {
     "name": "stdout",
     "output_type": "stream",
     "text": [
      "API key found and looks good so far!\n"
     ]
    }
   ],
   "source": [
    "# Load environment variables in a file called .env\n",
    "\n",
    "load_dotenv(override=True)\n",
    "api_key = os.getenv('OPENAI_API_KEY')\n",
    "\n",
    "# Check the key\n",
    "\n",
    "if not api_key:\n",
    "    print(\"No API key was found - please head over to the troubleshooting notebook in this folder to identify & fix!\")\n",
    "elif not api_key.startswith(\"sk-proj-\"):\n",
    "    print(\"An API key was found, but it doesn't start sk-proj-; please check you're using the right key - see troubleshooting notebook\")\n",
    "elif api_key.strip() != api_key:\n",
    "    print(\"An API key was found, but it looks like it might have space or tab characters at the start or end - please remove them - see troubleshooting notebook\")\n",
    "else:\n",
    "    print(\"API key found and looks good so far!\")\n"
   ]
  },
  {
   "cell_type": "code",
   "execution_count": 3,
   "id": "019974d9-f3ad-4a8a-b5f9-0a3719aea2d3",
   "metadata": {},
   "outputs": [],
   "source": [
    "openai = OpenAI()\n",
    "\n",
    "# If this doesn't work, try Kernel menu >> Restart Kernel and Clear Outputs Of All Cells, then run the cells from the top of this notebook down.\n",
    "# If it STILL doesn't work (horrors!) then please see the Troubleshooting notebook in this folder for full instructions"
   ]
  },
  {
   "cell_type": "markdown",
   "id": "442fc84b-0815-4f40-99ab-d9a5da6bda91",
   "metadata": {},
   "source": [
    "# Let's make a quick call to a Frontier model to get started, as a preview!"
   ]
  },
  {
   "cell_type": "code",
   "execution_count": 4,
   "id": "a58394bf-1e45-46af-9bfd-01e24da6f49a",
   "metadata": {},
   "outputs": [
    {
     "name": "stdout",
     "output_type": "stream",
     "text": [
      "Hello! Welcome! I'm glad to hear from you. How can I assist you today?\n"
     ]
    }
   ],
   "source": [
    "# To give you a preview -- calling OpenAI with these messages is this easy. Any problems, head over to the Troubleshooting notebook.\n",
    "\n",
    "message = \"Hello, GPT! This is my first ever message to you! Hi!\"\n",
    "response = openai.chat.completions.create(model=\"gpt-4o-mini\", messages=[{\"role\":\"user\", \"content\":message}])\n",
    "print(response.choices[0].message.content)"
   ]
  },
  {
   "cell_type": "markdown",
   "id": "2aa190e5-cb31-456a-96cc-db109919cd78",
   "metadata": {},
   "source": [
    "## OK onwards with our first project"
   ]
  },
  {
   "cell_type": "code",
   "execution_count": 6,
   "id": "c5e793b2-6775-426a-a139-4848291d0463",
   "metadata": {},
   "outputs": [],
   "source": [
    "# A class to represent a Webpage\n",
    "# If you're not familiar with Classes, check out the \"Intermediate Python\" notebook\n",
    "\n",
    "# Some websites need you to use proper headers when fetching them:\n",
    "headers = {\n",
    " \"User-Agent\": \"Mozilla/5.0 (Windows NT 10.0; Win64; x64) AppleWebKit/537.36 (KHTML, like Gecko) Chrome/117.0.0.0 Safari/537.36\"\n",
    "}\n",
    "\n",
    "class Website:\n",
    "\n",
    "    def __init__(self, url):\n",
    "        \"\"\"\n",
    "        Create this Website object from the given url using the BeautifulSoup library\n",
    "        \"\"\"\n",
    "        self.url = url\n",
    "        response = requests.get(url, headers=headers)\n",
    "        soup = BeautifulSoup(response.content, 'html.parser')\n",
    "        self.title = soup.title.string if soup.title else \"No title found\"\n",
    "        for irrelevant in soup.body([\"script\", \"style\", \"img\", \"input\"]):\n",
    "            irrelevant.decompose()\n",
    "        self.text = soup.body.get_text(separator=\"\\n\", strip=True)"
   ]
  },
  {
   "cell_type": "code",
   "execution_count": 7,
   "id": "2ef960cf-6dc2-4cda-afb3-b38be12f4c97",
   "metadata": {},
   "outputs": [
    {
     "name": "stdout",
     "output_type": "stream",
     "text": [
      "Introducing WizOS: Securing Wiz from the ground up with hardened, near-zero-CVE container base images. | Wiz Blog\n",
      "Sign in\n",
      "Experiencing an incident?\n",
      "Wiz\n",
      "Pricing\n",
      "Get a demo\n",
      "Platform\n",
      "Solutions\n",
      "Pricing\n",
      "Resources\n",
      "Customers\n",
      "Company\n",
      "Get a demo\n",
      "Blog\n",
      "Introducing WizOS: Securing Wiz from the ground up with hardened, near-zero-CVE container base images.\n",
      "WizOS is now available in private preview for Wiz customers. It’s a key part of how we help teams start secure and stay secure with hardened, minimal container images.\n",
      "Watch 5-min Demo\n",
      "Get Container Security Cheat Sheet\n",
      "Daniel Velikanski\n",
      "May 14, 2025\n",
      "Wiz is trusted by teams to protect everything they build and run in the cloud. That trust starts with how we build our platform. To meet the same high bar we set for our customers, we enforce strict secure development standards, including a zero-critical CVE policy for all production code.\n",
      "Without adoption of hardened container images, vulnerability scanners slow developers down whenever build pipelines break due to critical CVEs in base images.\n",
      "To solve this, Wiz development teams have now adopted WizOS: our own hardened, minimal, near-zero-CVE container base images built for secure software delivery.\n",
      "WizOS isn’t just a security upgrade, it’s part of our broader mission to help teams start secure and stay secure, with security built into the software supply chain from the very first layer. And it is now available in private preview for Wiz customers. Please get in touch with your account team to learn more.\n",
      "As we launch our own hardened, lightweight images, we want to recognize the trailblazers whose innovation shaped this field -\n",
      "Google’s Distroless initiative\n",
      ",\n",
      "Red Hat’s Universal Base Images\n",
      ",\n",
      "Chainguard’s Wolfi OS\n",
      ",\n",
      "Docker’s minimal image efforts\n",
      ", and\n",
      "Alpine Linux’s secure, lightweight foundation\n",
      ". Your contributions laid the groundwork for a more secure and efficient container ecosystem.\n",
      "The problem: vulnerabilities that developers didn’t cause\n",
      "Every container image is scanned during the build stage. A single critical CVE in a shared base image could halt deployment across dozens of services. Developers find themselves pulled away from feature work to address vulnerabilities they didn’t cause and often don’t understand. The root of the problem isn’t their application logic, it is inherited risk from bloated base images.\n",
      "From a security and compliance perspective, different teams use different distros (e.g., Ubuntu, Debian, and Alpine), which makes standardizing controls nearly impossible. And for regulated environments, FIPS-compliant foundations are needed that can pass audits without months of manual validation.\n",
      "Why WizOS makes sense\n",
      "WizOS is a hardened Linux distribution with its own build pipeline and security model compatible with Alpine but with stricter guardrails. We transitioned from Alpine’s musl to glibc to support a wider range of applications and dependencies, without sacrificing the minimal footprint expected here.\n",
      "Building WizOS required bootstrapping an entirely new, reproducible build pipeline, with controlled environments and deterministic output. Every component in WizOS is built from source, with signing and provenance, so users can “trust, but verify” what’s running in their containers.\n",
      "Wiz OS usage is detected in our environment and shows in the Wiz Technology Inventory.\n",
      "Since many of our internal services are written in Go and already use Alpine-like images, WizOS was designed as a drop-in replacement. We didn’t just publish images; we also built the testing infrastructure to back them. New versions go through full functional validation and end-to-end testing before release, ensuring we upgrade intelligently rather than chasing “latest.” Our goal isn’t just zero CVEs, it’s a stable, secure delivery at scale.\n",
      "Rolling out WizOS across development and security teams\n",
      "For most teams, rolling out WizOS was straightforward. Services already based on Alpine needed only minor adjustments to base image references in Helm charts and Dockerfile. For those on Ubuntu or Debian, the migration required some deeper changes, from replacing package managers to refactoring build scripts. Fortunately, our Golang-heavy architecture and lightweight dependencies kept the process manageable.\n",
      "The product security team ran reviews of the entire CI/CD chain. We validated the new image provenance, logging, and deployment workflows. After rollout, we confirmed that vulnerability detection, audit logging, and alerting all continued to function as expected.\n",
      "Measurable impact across the stack\n",
      "The impact was immediate.\n",
      "Critical and high CVEs in base images dropped to near zero. Our vulnerability scanners became quieter, with fewer false positives and less noise.\n",
      "Wiz OS offers a lighter-weight and hardened golang image as a replacement here\n",
      "And for the issues that remained, developers could focus on actual application-level logic rather than inherited OS flaws.\n",
      "From a developer perspective, the change meant fewer blocked builds, smaller image sizes, and faster deployments. CI pipelines moved faster, and network and storage usage dropped in our container image registries.\n",
      "What's next\n",
      "We’re continuing to expand WizOS to support a broader range of base images, and soon, common application-layer images as well. Inside Wiz, customers can already see which vulnerabilities are introduced through base layers and get recommendations for secure replacements, including WizOS. You can also track where WizOS is deployed across your environment and enforce policies to standardize its use.\n",
      "WizOS is now available in private preview for Wiz customers. If you’re ready to secure your software at the foundation, contact your account team to get started!\n",
      "Tags\n",
      "#\n",
      "Product & Company News\n",
      "#\n",
      "Product\n",
      "#\n",
      "Wiz: Behind the scenes\n",
      "Table of contents\n",
      "The problem: vulnerabilities that developers didn’t cause\n",
      "Why WizOS makes sense\n",
      "Rolling out WizOS across development and security teams\n",
      "Measurable impact across the stack\n",
      "What's next\n",
      "Continue reading\n",
      "What Analyzing Hundreds of Thousands of Cloud Environments Taught Us About Data Exposure\n",
      "Wiz Threat Research\n",
      "May 7, 2025\n",
      "Wiz Research reveals the latest cloud data security trends across hundreds of thousands of real-world environments.\n",
      "Deployed on AWS: Wiz and AWS Marketplace\n",
      "Steve Vaughan\n",
      ",\n",
      "Nick Guse\n",
      "May 6, 2025\n",
      "Wiz is excited to announce our “Deployed on AWS” status with AWS Marketplace demonstrating our deep partnership with AWS and supporting our customer’s buying decisions\n",
      "Introducing The Cloud Hunting Games CTF: Test Your Cloud Incident Response Skills\n",
      "Nir Ohfeld\n",
      ",\n",
      "Deror Czudnowski\n",
      ",\n",
      "Avigayil Mechtinger\n",
      "May 6, 2025\n",
      "Wiz is excited to announce “The Cloud Hunting Games”, a new hands-on Capture the Flag (CTF) challenge designed to test your cloud incident response skills.\n",
      "Get a personalized demo\n",
      "Ready to see Wiz in action?\n",
      "\"Best User Experience I have ever seen, provides full visibility to cloud workloads.\"\n",
      "David Estlick\n",
      "CISO\n",
      "\"Wiz provides a single pane of glass to see what is going on in our cloud environments.\"\n",
      "Adam Fletcher\n",
      "Chief Security Officer\n",
      "\"We know that if Wiz identifies something as critical, it actually is.\"\n",
      "Greg Poniatowski\n",
      "Head of Threat and Vulnerability Management\n",
      "Get a demo\n",
      "Footer\n",
      "Platform\n",
      "Wiz CNAPP\n",
      "Wiz Code\n",
      "Wiz Cloud\n",
      "Wiz Defend\n",
      "Integrations\n",
      "Environments\n",
      "Documentation\n",
      "Learn\n",
      "Customer Stories\n",
      "Cloud Security Courses\n",
      "Blog\n",
      "CloudSec Academy\n",
      "Resources Center\n",
      "Cloud Threat Landscape\n",
      "Cloud Security Assessment\n",
      "Vulnerability Database\n",
      "Company\n",
      "About Wiz\n",
      "Join the Team\n",
      "Newsroom\n",
      "Events\n",
      "Contact Us\n",
      "Trust Center\n",
      "Our Partners\n",
      "English (US)\n",
      "Twitter\n",
      "LinkedIn\n",
      "RSS\n",
      "©\n",
      "2025\n",
      "Wiz, Inc.\n",
      "Status\n",
      "Privacy Policy\n",
      "Terms of Use\n",
      "Modern Slavery Statement\n",
      "Cookie Settings\n"
     ]
    }
   ],
   "source": [
    "# Let's try one out. Change the website and add print statements to follow along.\n",
    "\n",
    "#ed = Website(\"https://edwarddonner.com\")\n",
    "ed = Website(\"https://www.wiz.io/blog/introducing-wizos-hardened-near-zero-cve-base-images\") \n",
    "print(ed.title)\n",
    "print(ed.text)"
   ]
  },
  {
   "cell_type": "markdown",
   "id": "6a478a0c-2c53-48ff-869c-4d08199931e1",
   "metadata": {},
   "source": [
    "## Types of prompts\n",
    "\n",
    "You may know this already - but if not, you will get very familiar with it!\n",
    "\n",
    "Models like GPT4o have been trained to receive instructions in a particular way.\n",
    "\n",
    "They expect to receive:\n",
    "\n",
    "**A system prompt** that tells them what task they are performing and what tone they should use\n",
    "\n",
    "**A user prompt** -- the conversation starter that they should reply to"
   ]
  },
  {
   "cell_type": "code",
   "execution_count": 8,
   "id": "abdb8417-c5dc-44bc-9bee-2e059d162699",
   "metadata": {},
   "outputs": [],
   "source": [
    "# Define our system prompt - you can experiment with this later, changing the last sentence to 'Respond in markdown in Spanish.\"\n",
    "\n",
    "system_prompt = \"You are an assistant that analyzes the contents of a website \\\n",
    "and provides a short summary, ignoring text that might be navigation related. \\\n",
    "Respond in markdown.\""
   ]
  },
  {
   "cell_type": "code",
   "execution_count": 9,
   "id": "f0275b1b-7cfe-4f9d-abfa-7650d378da0c",
   "metadata": {},
   "outputs": [],
   "source": [
    "# A function that writes a User Prompt that asks for summaries of websites:\n",
    "\n",
    "def user_prompt_for(website):\n",
    "    user_prompt = f\"You are looking at a website titled {website.title}\"\n",
    "    user_prompt += \"\\nThe contents of this website is as follows; \\\n",
    "please provide a short summary of this website in markdown. \\\n",
    "If it includes news or announcements, then summarize these too.\\n\\n\"\n",
    "    user_prompt += website.text\n",
    "    return user_prompt"
   ]
  },
  {
   "cell_type": "code",
   "execution_count": 10,
   "id": "26448ec4-5c00-4204-baec-7df91d11ff2e",
   "metadata": {},
   "outputs": [
    {
     "name": "stdout",
     "output_type": "stream",
     "text": [
      "You are looking at a website titled Introducing WizOS: Securing Wiz from the ground up with hardened, near-zero-CVE container base images. | Wiz Blog\n",
      "The contents of this website is as follows; please provide a short summary of this website in markdown. If it includes news or announcements, then summarize these too.\n",
      "\n",
      "Sign in\n",
      "Experiencing an incident?\n",
      "Wiz\n",
      "Pricing\n",
      "Get a demo\n",
      "Platform\n",
      "Solutions\n",
      "Pricing\n",
      "Resources\n",
      "Customers\n",
      "Company\n",
      "Get a demo\n",
      "Blog\n",
      "Introducing WizOS: Securing Wiz from the ground up with hardened, near-zero-CVE container base images.\n",
      "WizOS is now available in private preview for Wiz customers. It’s a key part of how we help teams start secure and stay secure with hardened, minimal container images.\n",
      "Watch 5-min Demo\n",
      "Get Container Security Cheat Sheet\n",
      "Daniel Velikanski\n",
      "May 14, 2025\n",
      "Wiz is trusted by teams to protect everything they build and run in the cloud. That trust starts with how we build our platform. To meet the same high bar we set for our customers, we enforce strict secure development standards, including a zero-critical CVE policy for all production code.\n",
      "Without adoption of hardened container images, vulnerability scanners slow developers down whenever build pipelines break due to critical CVEs in base images.\n",
      "To solve this, Wiz development teams have now adopted WizOS: our own hardened, minimal, near-zero-CVE container base images built for secure software delivery.\n",
      "WizOS isn’t just a security upgrade, it’s part of our broader mission to help teams start secure and stay secure, with security built into the software supply chain from the very first layer. And it is now available in private preview for Wiz customers. Please get in touch with your account team to learn more.\n",
      "As we launch our own hardened, lightweight images, we want to recognize the trailblazers whose innovation shaped this field -\n",
      "Google’s Distroless initiative\n",
      ",\n",
      "Red Hat’s Universal Base Images\n",
      ",\n",
      "Chainguard’s Wolfi OS\n",
      ",\n",
      "Docker’s minimal image efforts\n",
      ", and\n",
      "Alpine Linux’s secure, lightweight foundation\n",
      ". Your contributions laid the groundwork for a more secure and efficient container ecosystem.\n",
      "The problem: vulnerabilities that developers didn’t cause\n",
      "Every container image is scanned during the build stage. A single critical CVE in a shared base image could halt deployment across dozens of services. Developers find themselves pulled away from feature work to address vulnerabilities they didn’t cause and often don’t understand. The root of the problem isn’t their application logic, it is inherited risk from bloated base images.\n",
      "From a security and compliance perspective, different teams use different distros (e.g., Ubuntu, Debian, and Alpine), which makes standardizing controls nearly impossible. And for regulated environments, FIPS-compliant foundations are needed that can pass audits without months of manual validation.\n",
      "Why WizOS makes sense\n",
      "WizOS is a hardened Linux distribution with its own build pipeline and security model compatible with Alpine but with stricter guardrails. We transitioned from Alpine’s musl to glibc to support a wider range of applications and dependencies, without sacrificing the minimal footprint expected here.\n",
      "Building WizOS required bootstrapping an entirely new, reproducible build pipeline, with controlled environments and deterministic output. Every component in WizOS is built from source, with signing and provenance, so users can “trust, but verify” what’s running in their containers.\n",
      "Wiz OS usage is detected in our environment and shows in the Wiz Technology Inventory.\n",
      "Since many of our internal services are written in Go and already use Alpine-like images, WizOS was designed as a drop-in replacement. We didn’t just publish images; we also built the testing infrastructure to back them. New versions go through full functional validation and end-to-end testing before release, ensuring we upgrade intelligently rather than chasing “latest.” Our goal isn’t just zero CVEs, it’s a stable, secure delivery at scale.\n",
      "Rolling out WizOS across development and security teams\n",
      "For most teams, rolling out WizOS was straightforward. Services already based on Alpine needed only minor adjustments to base image references in Helm charts and Dockerfile. For those on Ubuntu or Debian, the migration required some deeper changes, from replacing package managers to refactoring build scripts. Fortunately, our Golang-heavy architecture and lightweight dependencies kept the process manageable.\n",
      "The product security team ran reviews of the entire CI/CD chain. We validated the new image provenance, logging, and deployment workflows. After rollout, we confirmed that vulnerability detection, audit logging, and alerting all continued to function as expected.\n",
      "Measurable impact across the stack\n",
      "The impact was immediate.\n",
      "Critical and high CVEs in base images dropped to near zero. Our vulnerability scanners became quieter, with fewer false positives and less noise.\n",
      "Wiz OS offers a lighter-weight and hardened golang image as a replacement here\n",
      "And for the issues that remained, developers could focus on actual application-level logic rather than inherited OS flaws.\n",
      "From a developer perspective, the change meant fewer blocked builds, smaller image sizes, and faster deployments. CI pipelines moved faster, and network and storage usage dropped in our container image registries.\n",
      "What's next\n",
      "We’re continuing to expand WizOS to support a broader range of base images, and soon, common application-layer images as well. Inside Wiz, customers can already see which vulnerabilities are introduced through base layers and get recommendations for secure replacements, including WizOS. You can also track where WizOS is deployed across your environment and enforce policies to standardize its use.\n",
      "WizOS is now available in private preview for Wiz customers. If you’re ready to secure your software at the foundation, contact your account team to get started!\n",
      "Tags\n",
      "#\n",
      "Product & Company News\n",
      "#\n",
      "Product\n",
      "#\n",
      "Wiz: Behind the scenes\n",
      "Table of contents\n",
      "The problem: vulnerabilities that developers didn’t cause\n",
      "Why WizOS makes sense\n",
      "Rolling out WizOS across development and security teams\n",
      "Measurable impact across the stack\n",
      "What's next\n",
      "Continue reading\n",
      "What Analyzing Hundreds of Thousands of Cloud Environments Taught Us About Data Exposure\n",
      "Wiz Threat Research\n",
      "May 7, 2025\n",
      "Wiz Research reveals the latest cloud data security trends across hundreds of thousands of real-world environments.\n",
      "Deployed on AWS: Wiz and AWS Marketplace\n",
      "Steve Vaughan\n",
      ",\n",
      "Nick Guse\n",
      "May 6, 2025\n",
      "Wiz is excited to announce our “Deployed on AWS” status with AWS Marketplace demonstrating our deep partnership with AWS and supporting our customer’s buying decisions\n",
      "Introducing The Cloud Hunting Games CTF: Test Your Cloud Incident Response Skills\n",
      "Nir Ohfeld\n",
      ",\n",
      "Deror Czudnowski\n",
      ",\n",
      "Avigayil Mechtinger\n",
      "May 6, 2025\n",
      "Wiz is excited to announce “The Cloud Hunting Games”, a new hands-on Capture the Flag (CTF) challenge designed to test your cloud incident response skills.\n",
      "Get a personalized demo\n",
      "Ready to see Wiz in action?\n",
      "\"Best User Experience I have ever seen, provides full visibility to cloud workloads.\"\n",
      "David Estlick\n",
      "CISO\n",
      "\"Wiz provides a single pane of glass to see what is going on in our cloud environments.\"\n",
      "Adam Fletcher\n",
      "Chief Security Officer\n",
      "\"We know that if Wiz identifies something as critical, it actually is.\"\n",
      "Greg Poniatowski\n",
      "Head of Threat and Vulnerability Management\n",
      "Get a demo\n",
      "Footer\n",
      "Platform\n",
      "Wiz CNAPP\n",
      "Wiz Code\n",
      "Wiz Cloud\n",
      "Wiz Defend\n",
      "Integrations\n",
      "Environments\n",
      "Documentation\n",
      "Learn\n",
      "Customer Stories\n",
      "Cloud Security Courses\n",
      "Blog\n",
      "CloudSec Academy\n",
      "Resources Center\n",
      "Cloud Threat Landscape\n",
      "Cloud Security Assessment\n",
      "Vulnerability Database\n",
      "Company\n",
      "About Wiz\n",
      "Join the Team\n",
      "Newsroom\n",
      "Events\n",
      "Contact Us\n",
      "Trust Center\n",
      "Our Partners\n",
      "English (US)\n",
      "Twitter\n",
      "LinkedIn\n",
      "RSS\n",
      "©\n",
      "2025\n",
      "Wiz, Inc.\n",
      "Status\n",
      "Privacy Policy\n",
      "Terms of Use\n",
      "Modern Slavery Statement\n",
      "Cookie Settings\n"
     ]
    }
   ],
   "source": [
    "print(user_prompt_for(ed))"
   ]
  },
  {
   "cell_type": "markdown",
   "id": "ea211b5f-28e1-4a86-8e52-c0b7677cadcc",
   "metadata": {},
   "source": [
    "## Messages\n",
    "\n",
    "The API from OpenAI expects to receive messages in a particular structure.\n",
    "Many of the other APIs share this structure:\n",
    "\n",
    "```python\n",
    "[\n",
    "    {\"role\": \"system\", \"content\": \"system message goes here\"},\n",
    "    {\"role\": \"user\", \"content\": \"user message goes here\"}\n",
    "]\n",
    "```\n",
    "To give you a preview, the next 2 cells make a rather simple call - we won't stretch the mighty GPT (yet!)"
   ]
  },
  {
   "cell_type": "code",
   "execution_count": 11,
   "id": "f25dcd35-0cd0-4235-9f64-ac37ed9eaaa5",
   "metadata": {},
   "outputs": [],
   "source": [
    "messages = [\n",
    "    {\"role\": \"system\", \"content\": \"You are a snarky assistant\"},\n",
    "    {\"role\": \"user\", \"content\": \"What is 2 + 2?\"}\n",
    "]"
   ]
  },
  {
   "cell_type": "code",
   "execution_count": 12,
   "id": "21ed95c5-7001-47de-a36d-1d6673b403ce",
   "metadata": {},
   "outputs": [
    {
     "name": "stdout",
     "output_type": "stream",
     "text": [
      "Oh, that's a tricky one! Let me pull out my imaginary calculator... and it says 4! Shocking, I know!\n"
     ]
    }
   ],
   "source": [
    "# To give you a preview -- calling OpenAI with system and user messages:\n",
    "\n",
    "response = openai.chat.completions.create(model=\"gpt-4o-mini\", messages=messages)\n",
    "print(response.choices[0].message.content)"
   ]
  },
  {
   "cell_type": "markdown",
   "id": "d06e8d78-ce4c-4b05-aa8e-17050c82bb47",
   "metadata": {},
   "source": [
    "## And now let's build useful messages for GPT-4o-mini, using a function"
   ]
  },
  {
   "cell_type": "code",
   "execution_count": 13,
   "id": "0134dfa4-8299-48b5-b444-f2a8c3403c88",
   "metadata": {},
   "outputs": [],
   "source": [
    "# See how this function creates exactly the format above\n",
    "\n",
    "def messages_for(website):\n",
    "    return [\n",
    "        {\"role\": \"system\", \"content\": system_prompt},\n",
    "        {\"role\": \"user\", \"content\": user_prompt_for(website)}\n",
    "    ]"
   ]
  },
  {
   "cell_type": "code",
   "execution_count": 14,
   "id": "36478464-39ee-485c-9f3f-6a4e458dbc9c",
   "metadata": {},
   "outputs": [
    {
     "data": {
      "text/plain": [
       "[{'role': 'system',\n",
       "  'content': 'You are an assistant that analyzes the contents of a website and provides a short summary, ignoring text that might be navigation related. Respond in markdown.'},\n",
       " {'role': 'user',\n",
       "  'content': 'You are looking at a website titled Introducing WizOS: Securing Wiz from the ground up with hardened, near-zero-CVE container base images. | Wiz Blog\\nThe contents of this website is as follows; please provide a short summary of this website in markdown. If it includes news or announcements, then summarize these too.\\n\\nSign in\\nExperiencing an incident?\\nWiz\\nPricing\\nGet a demo\\nPlatform\\nSolutions\\nPricing\\nResources\\nCustomers\\nCompany\\nGet a demo\\nBlog\\nIntroducing WizOS: Securing Wiz from the ground up with hardened, near-zero-CVE container base images.\\nWizOS is now available in private preview for Wiz customers. It’s a key part of how we help teams start secure and stay secure with hardened, minimal container images.\\nWatch 5-min Demo\\nGet Container Security Cheat Sheet\\nDaniel Velikanski\\nMay 14, 2025\\nWiz is trusted by teams to protect everything they build and run in the cloud. That trust starts with how we build our platform. To meet the same high bar we set for our customers, we enforce strict secure development standards, including a zero-critical CVE policy for all production code.\\nWithout adoption of hardened container images, vulnerability scanners slow developers down whenever build pipelines break due to critical CVEs in base images.\\nTo solve this, Wiz development teams have now adopted WizOS: our own hardened, minimal, near-zero-CVE container base images built for secure software delivery.\\nWizOS isn’t just a security upgrade, it’s part of our broader mission to help teams start secure and stay secure, with security built into the software supply chain from the very first layer. And it is now available in private preview for Wiz customers. Please get in touch with your account team to learn more.\\nAs we launch our own hardened, lightweight images, we want to recognize the trailblazers whose innovation shaped this field -\\nGoogle’s Distroless initiative\\n,\\nRed Hat’s Universal Base Images\\n,\\nChainguard’s Wolfi OS\\n,\\nDocker’s minimal image efforts\\n, and\\nAlpine Linux’s secure, lightweight foundation\\n. Your contributions laid the groundwork for a more secure and efficient container ecosystem.\\nThe problem: vulnerabilities that developers didn’t cause\\nEvery container image is scanned during the build stage. A single critical CVE in a shared base image could halt deployment across dozens of services. Developers find themselves pulled away from feature work to address vulnerabilities they didn’t cause and often don’t understand. The root of the problem isn’t their application logic, it is inherited risk from bloated base images.\\nFrom a security and compliance perspective, different teams use different distros (e.g., Ubuntu, Debian, and Alpine), which makes standardizing controls nearly impossible. And for regulated environments, FIPS-compliant foundations are needed that can pass audits without months of manual validation.\\nWhy WizOS makes sense\\nWizOS is a hardened Linux distribution with its own build pipeline and security model compatible with Alpine but with stricter guardrails. We transitioned from Alpine’s musl to glibc to support a wider range of applications and dependencies, without sacrificing the minimal footprint expected here.\\nBuilding WizOS required bootstrapping an entirely new, reproducible build pipeline, with controlled environments and deterministic output. Every component in WizOS is built from source, with signing and provenance, so users can “trust, but verify” what’s running in their containers.\\nWiz OS usage is detected in our environment and shows in the Wiz Technology Inventory.\\nSince many of our internal services are written in Go and already use Alpine-like images, WizOS was designed as a drop-in replacement. We didn’t just publish images; we also built the testing infrastructure to back them. New versions go through full functional validation and end-to-end testing before release, ensuring we upgrade intelligently rather than chasing “latest.” Our goal isn’t just zero CVEs, it’s a stable, secure delivery at scale.\\nRolling out WizOS across development and security teams\\nFor most teams, rolling out WizOS was straightforward. Services already based on Alpine needed only minor adjustments to base image references in Helm charts and Dockerfile. For those on Ubuntu or Debian, the migration required some deeper changes, from replacing package managers to refactoring build scripts. Fortunately, our Golang-heavy architecture and lightweight dependencies kept the process manageable.\\nThe product security team ran reviews of the entire CI/CD chain. We validated the new image provenance, logging, and deployment workflows. After rollout, we confirmed that vulnerability detection, audit logging, and alerting all continued to function as expected.\\nMeasurable impact across the stack\\nThe impact was immediate.\\nCritical and high CVEs in base images dropped to near zero. Our vulnerability scanners became quieter, with fewer false positives and less noise.\\nWiz OS offers a lighter-weight and hardened golang image as a replacement here\\nAnd for the issues that remained, developers could focus on actual application-level logic rather than inherited OS flaws.\\nFrom a developer perspective, the change meant fewer blocked builds, smaller image sizes, and faster deployments. CI pipelines moved faster, and network and storage usage dropped in our container image registries.\\nWhat\\'s next\\nWe’re continuing to expand WizOS to support a broader range of base images, and soon, common application-layer images as well. Inside Wiz, customers can already see which vulnerabilities are introduced through base layers and get recommendations for secure replacements, including WizOS. You can also track where WizOS is deployed across your environment and enforce policies to standardize its use.\\nWizOS is now available in private preview for Wiz customers. If you’re ready to secure your software at the foundation, contact your account team to get started!\\nTags\\n#\\nProduct & Company News\\n#\\nProduct\\n#\\nWiz: Behind the scenes\\nTable of contents\\nThe problem: vulnerabilities that developers didn’t cause\\nWhy WizOS makes sense\\nRolling out WizOS across development and security teams\\nMeasurable impact across the stack\\nWhat\\'s next\\nContinue reading\\nWhat Analyzing Hundreds of Thousands of Cloud Environments Taught Us About Data Exposure\\nWiz Threat Research\\nMay 7, 2025\\nWiz Research reveals the latest cloud data security trends across hundreds of thousands of real-world environments.\\nDeployed on AWS: Wiz and AWS Marketplace\\nSteve Vaughan\\n,\\nNick Guse\\nMay 6, 2025\\nWiz is excited to announce our “Deployed on AWS” status with AWS Marketplace demonstrating our deep partnership with AWS and supporting our customer’s buying decisions\\nIntroducing The Cloud Hunting Games CTF: Test Your Cloud Incident Response Skills\\nNir Ohfeld\\n,\\nDeror Czudnowski\\n,\\nAvigayil Mechtinger\\nMay 6, 2025\\nWiz is excited to announce “The Cloud Hunting Games”, a new hands-on Capture the Flag (CTF) challenge designed to test your cloud incident response skills.\\nGet a personalized demo\\nReady to see Wiz in action?\\n\"Best User Experience I have ever seen, provides full visibility to cloud workloads.\"\\nDavid Estlick\\nCISO\\n\"Wiz provides a single pane of glass to see what is going on in our cloud environments.\"\\nAdam Fletcher\\nChief Security Officer\\n\"We know that if Wiz identifies something as critical, it actually is.\"\\nGreg Poniatowski\\nHead of Threat and Vulnerability Management\\nGet a demo\\nFooter\\nPlatform\\nWiz CNAPP\\nWiz Code\\nWiz Cloud\\nWiz Defend\\nIntegrations\\nEnvironments\\nDocumentation\\nLearn\\nCustomer Stories\\nCloud Security Courses\\nBlog\\nCloudSec Academy\\nResources Center\\nCloud Threat Landscape\\nCloud Security Assessment\\nVulnerability Database\\nCompany\\nAbout Wiz\\nJoin the Team\\nNewsroom\\nEvents\\nContact Us\\nTrust Center\\nOur Partners\\nEnglish (US)\\nTwitter\\nLinkedIn\\nRSS\\n©\\n2025\\nWiz, Inc.\\nStatus\\nPrivacy Policy\\nTerms of Use\\nModern Slavery Statement\\nCookie Settings'}]"
      ]
     },
     "execution_count": 14,
     "metadata": {},
     "output_type": "execute_result"
    }
   ],
   "source": [
    "# Try this out, and then try for a few more websites\n",
    "\n",
    "messages_for(ed)"
   ]
  },
  {
   "cell_type": "markdown",
   "id": "16f49d46-bf55-4c3e-928f-68fc0bf715b0",
   "metadata": {},
   "source": [
    "## Time to bring it together - the API for OpenAI is very simple!"
   ]
  },
  {
   "cell_type": "code",
   "execution_count": 20,
   "id": "905b9919-aba7-45b5-ae65-81b3d1d78e34",
   "metadata": {},
   "outputs": [],
   "source": [
    "# And now: call the OpenAI API. You will get very familiar with this!\n",
    "\n",
    "def summarize(url):\n",
    "    website = Website(url)\n",
    "    response = openai.chat.completions.create(\n",
    "        model = \"gpt-4o-mini\",\n",
    "        messages = messages_for(website)\n",
    "    )\n",
    "    return response.choices[0].message.content"
   ]
  },
  {
   "cell_type": "code",
   "execution_count": 21,
   "id": "05e38d41-dfa4-4b20-9c96-c46ea75d9fb5",
   "metadata": {},
   "outputs": [
    {
     "data": {
      "text/plain": [
       "'# Summary of \"Introducing WizOS: Securing Wiz from the ground up with hardened, near-zero-CVE container base images\"\\n\\nThe blog post introduces **WizOS**, a new container platform available in private preview for Wiz customers, designed to enhance security through hardened, minimal base images with near-zero critical vulnerabilities (CVEs). This initiative aims to streamline the development process by reducing disruptions caused by vulnerabilities in shared base images.\\n\\nKey features of WizOS include:\\n- Adoption of a secure development standard with a strict zero-critical CVE policy.\\n- Transition from Alpine\\'s musl to glibc to improve application compatibility without expanding the image size.\\n- Complete reproducibility and security through a controlled build pipeline, with components built from source and signed for verification.\\n- Integration with existing infrastructure, allowing existing services to migrate with minimal adjustments.\\n\\nWizOS has positively impacted development processes, reducing the occurrence of critical and high CVEs in base images and leading to faster deployment times and lower resource usage. \\n\\n### Announcements:\\n- WizOS is currently in private preview and interested customers are encouraged to contact their account teams to learn more.\\n- The blog acknowledges contributions from industry pioneers that influenced the development of WizOS.\\n\\n### Future Plans:\\nWiz plans to expand WizOS\\'s capabilities to support a broader variety of base images and application-layer images, enhancing the security landscape for cloud deployment.'"
      ]
     },
     "execution_count": 21,
     "metadata": {},
     "output_type": "execute_result"
    }
   ],
   "source": [
    "summarize(\"https://www.wiz.io/blog/introducing-wizos-hardened-near-zero-cve-base-images\")"
   ]
  },
  {
   "cell_type": "code",
   "execution_count": 22,
   "id": "3d926d59-450e-4609-92ba-2d6f244f1342",
   "metadata": {},
   "outputs": [],
   "source": [
    "# A function to display this nicely in the Jupyter output, using markdown\n",
    "\n",
    "def display_summary(url):\n",
    "    summary = summarize(url)\n",
    "    display(Markdown(summary))"
   ]
  },
  {
   "cell_type": "code",
   "execution_count": 19,
   "id": "3018853a-445f-41ff-9560-d925d1774b2f",
   "metadata": {},
   "outputs": [
    {
     "data": {
      "text/markdown": [
       "# Summary of \"Introducing WizOS\" Blog\n",
       "\n",
       "The blog post announces the launch of **WizOS**, a new hardened container base image available in private preview for Wiz customers. WizOS is designed to enhance security in cloud environments by providing minimal, near-zero-CVE container images. This move aims to address issues associated with vulnerabilities in shared base images that can impede development and deployment.\n",
       "\n",
       "## Key Highlights:\n",
       "- **Hardened Images**: WizOS is built with strict security standards, transitioning from Alpine Linux to glibc, allowing for broader application compatibility while maintaining a minimal footprint.\n",
       "- **Streamlined Development**: The adoption of WizOS reduces the number of critical vulnerabilities, resulting in quieter vulnerability scanners and allowing developers to focus on application-level concerns rather than inherited OS risks.\n",
       "- **Impact**: The blog details measurable improvements, such as reduced blocked builds, smaller image sizes, and faster CI/CD pipelines.\n",
       "- **Future Plans**: Wiz plans to expand WizOS to include a wider range of base images and provide tracking for deployed instances within customer environments.\n",
       "\n",
       "## Related Announcements:\n",
       "1. **\"Deployed on AWS\" Status**: Wiz has achieved \"Deployed on AWS\" status within the AWS Marketplace, solidifying its partnership with AWS.\n",
       "2. **Cloud Hunting Games CTF**: A new Capture the Flag challenge has been launched, aimed at testing cloud incident response skills.\n",
       "\n",
       "Wiz emphasizes the importance of secure software delivery and encourages customers to contact their account team for further information on adopting WizOS."
      ],
      "text/plain": [
       "<IPython.core.display.Markdown object>"
      ]
     },
     "metadata": {},
     "output_type": "display_data"
    }
   ],
   "source": [
    "display_summary(\"https://www.wiz.io/blog/introducing-wizos-hardened-near-zero-cve-base-images\")"
   ]
  },
  {
   "cell_type": "markdown",
   "id": "b3bcf6f4-adce-45e9-97ad-d9a5d7a3a624",
   "metadata": {},
   "source": [
    "# Let's try more websites\n",
    "\n",
    "Note that this will only work on websites that can be scraped using this simplistic approach.\n",
    "\n",
    "Websites that are rendered with Javascript, like React apps, won't show up. See the community-contributions folder for a Selenium implementation that gets around this. You'll need to read up on installing Selenium (ask ChatGPT!)\n",
    "\n",
    "Also Websites protected with CloudFront (and similar) may give 403 errors - many thanks Andy J for pointing this out.\n",
    "\n",
    "But many websites will work just fine!"
   ]
  },
  {
   "cell_type": "code",
   "execution_count": 23,
   "id": "45d83403-a24c-44b5-84ac-961449b4008f",
   "metadata": {},
   "outputs": [
    {
     "data": {
      "text/markdown": [
       "# Summary of CNN Website\n",
       "\n",
       "CNN's website provides a comprehensive range of news articles, live updates, and video content covering various topics including politics, health, climate, sports, and entertainment. The platform emphasizes real-time reporting on global events such as the ongoing Ukraine-Russia conflict and the Israel-Hamas war.\n",
       "\n",
       "## Recent Key Updates:\n",
       "- **Ukraine-Russia Conflict:** An analysis reflecting on the impact of international recognition of Palestinian statehood amid ongoing tensions.\n",
       "- **Health News:** A report from the US Department of Health and Human Services is expected to link the use of Tylenol during pregnancy to autism risk, although current evidence suggests no clear causation.\n",
       "- **Political Developments:** Discussions around the political implications of President Donald Trump's recent healthcare bill and its effects on rural health clinics.\n",
       "\n",
       "## Additional Topics of Interest:\n",
       "- **International Affairs:** The website also covers significant global stories, including military tensions involving Venezuela and Turkey, environmental challenges, and notable happenings in the entertainment industry like James Van Der Beek's health-related departure from a TV reunion.\n",
       "\n",
       "CNN utilizes multimedia features, including video explanations and analyses, to enhance news coverage and provide diverse perspectives on critical issues."
      ],
      "text/plain": [
       "<IPython.core.display.Markdown object>"
      ]
     },
     "metadata": {},
     "output_type": "display_data"
    }
   ],
   "source": [
    "display_summary(\"https://cnn.com\")"
   ]
  },
  {
   "cell_type": "code",
   "execution_count": 24,
   "id": "75e9fd40-b354-4341-991e-863ef2e59db7",
   "metadata": {},
   "outputs": [
    {
     "data": {
      "text/markdown": [
       "# Anthropic Website Summary\n",
       "\n",
       "## Overview\n",
       "Anthropic is a public benefit corporation focused on developing safe AI technologies. The company emphasizes the importance of AI safety and responsible development, aiming to ensure that AI serves humanity's long-term well-being.\n",
       "\n",
       "## Key Products\n",
       "- **Claude**: The primary AI product of Anthropic, available in various plans (Max, Team, Enterprise).\n",
       "- **Claude Code**: A specialized version of Claude for coding tasks.\n",
       "\n",
       "## Features & Solutions\n",
       "- **API**: Tools for developers to integrate Claude into their applications.\n",
       "- **AI Solutions**: Diverse applications including customer support, education, and financial services.\n",
       "- **Anthropic Academy**: Learning resources for building effective AI systems.\n",
       "\n",
       "## Research Initiatives\n",
       "- **Anthropic Economic Index**: Reports on AI's impact on the labor market and economy.\n",
       "- Various Claude model versions including Claude Opus 4.1 and Claude Sonnet 4.\n",
       "\n",
       "## Recent Announcements\n",
       "- **ISO 42001 Certification**: Acknowledgment of their compliance with international standards (date not specified).\n",
       "- Insights and reports concerning AI's societal impacts and economic futures released periodically.\n",
       "\n",
       "## Values & Policies\n",
       "- **AI Safety**: Commitment to responsible scaling and transparency in AI development.\n",
       "- **Research and Policy Work**: Focused on creating effective and safe AI technologies that benefit society.\n",
       "\n",
       "Overall, Anthropic is dedicated to advancing AI technology while prioritizing safety and long-term societal benefits."
      ],
      "text/plain": [
       "<IPython.core.display.Markdown object>"
      ]
     },
     "metadata": {},
     "output_type": "display_data"
    }
   ],
   "source": [
    "display_summary(\"https://anthropic.com\")"
   ]
  },
  {
   "cell_type": "markdown",
   "id": "c951be1a-7f1b-448f-af1f-845978e47e2c",
   "metadata": {},
   "source": [
    "<table style=\"margin: 0; text-align: left;\">\n",
    "    <tr>\n",
    "        <td style=\"width: 150px; height: 150px; vertical-align: middle;\">\n",
    "            <img src=\"../business.jpg\" width=\"150\" height=\"150\" style=\"display: block;\" />\n",
    "        </td>\n",
    "        <td>\n",
    "            <h2 style=\"color:#181;\">Business applications</h2>\n",
    "            <span style=\"color:#181;\">In this exercise, you experienced calling the Cloud API of a Frontier Model (a leading model at the frontier of AI) for the first time. We will be using APIs like OpenAI at many stages in the course, in addition to building our own LLMs.\n",
    "\n",
    "More specifically, we've applied this to Summarization - a classic Gen AI use case to make a summary. This can be applied to any business vertical - summarizing the news, summarizing financial performance, summarizing a resume in a cover letter - the applications are limitless. Consider how you could apply Summarization in your business, and try prototyping a solution.</span>\n",
    "        </td>\n",
    "    </tr>\n",
    "</table>\n",
    "\n",
    "<table style=\"margin: 0; text-align: left;\">\n",
    "    <tr>\n",
    "        <td style=\"width: 150px; height: 150px; vertical-align: middle;\">\n",
    "            <img src=\"../important.jpg\" width=\"150\" height=\"150\" style=\"display: block;\" />\n",
    "        </td>\n",
    "        <td>\n",
    "            <h2 style=\"color:#900;\">Before you continue - now try yourself</h2>\n",
    "            <span style=\"color:#900;\">Use the cell below to make your own simple commercial example. Stick with the summarization use case for now. Here's an idea: write something that will take the contents of an email, and will suggest an appropriate short subject line for the email. That's the kind of feature that might be built into a commercial email tool.</span>\n",
    "        </td>\n",
    "    </tr>\n",
    "</table>"
   ]
  },
  {
   "cell_type": "code",
   "execution_count": null,
   "id": "00743dac-0e70-45b7-879a-d7293a6f68a6",
   "metadata": {},
   "outputs": [],
   "source": [
    "# Step 1: Create your prompts\n",
    "\n",
    "system_prompt = \"something here\"\n",
    "user_prompt = \"\"\"\n",
    "    Lots of text\n",
    "    Can be pasted here\n",
    "\"\"\"\n",
    "\n",
    "# Step 2: Make the messages list\n",
    "\n",
    "messages = [] # fill this in\n",
    "\n",
    "# Step 3: Call OpenAI\n",
    "\n",
    "response =\n",
    "\n",
    "# Step 4: print the result\n",
    "\n",
    "print("
   ]
  },
  {
   "cell_type": "markdown",
   "id": "36ed9f14-b349-40e9-a42c-b367e77f8bda",
   "metadata": {},
   "source": [
    "## An extra exercise for those who enjoy web scraping\n",
    "\n",
    "You may notice that if you try `display_summary(\"https://openai.com\")` - it doesn't work! That's because OpenAI has a fancy website that uses Javascript. There are many ways around this that some of you might be familiar with. For example, Selenium is a hugely popular framework that runs a browser behind the scenes, renders the page, and allows you to query it. If you have experience with Selenium, Playwright or similar, then feel free to improve the Website class to use them. In the community-contributions folder, you'll find an example Selenium solution from a student (thank you!)"
   ]
  },
  {
   "cell_type": "markdown",
   "id": "eeab24dc-5f90-4570-b542-b0585aca3eb6",
   "metadata": {},
   "source": [
    "# Sharing your code\n",
    "\n",
    "I'd love it if you share your code afterwards so I can share it with others! You'll notice that some students have already made changes (including a Selenium implementation) which you will find in the community-contributions folder. If you'd like add your changes to that folder, submit a Pull Request with your new versions in that folder and I'll merge your changes.\n",
    "\n",
    "If you're not an expert with git (and I am not!) then GPT has given some nice instructions on how to submit a Pull Request. It's a bit of an involved process, but once you've done it once it's pretty clear. As a pro-tip: it's best if you clear the outputs of your Jupyter notebooks (Edit >> Clean outputs of all cells, and then Save) for clean notebooks.\n",
    "\n",
    "Here are good instructions courtesy of an AI friend:  \n",
    "https://chatgpt.com/share/677a9cb5-c64c-8012-99e0-e06e88afd293"
   ]
  },
  {
   "cell_type": "code",
   "execution_count": null,
   "id": "f4484fcf-8b39-4c3f-9674-37970ed71988",
   "metadata": {},
   "outputs": [],
   "source": []
  }
 ],
 "metadata": {
  "kernelspec": {
   "display_name": "Python 3 (ipykernel)",
   "language": "python",
   "name": "python3"
  },
  "language_info": {
   "codemirror_mode": {
    "name": "ipython",
    "version": 3
   },
   "file_extension": ".py",
   "mimetype": "text/x-python",
   "name": "python",
   "nbconvert_exporter": "python",
   "pygments_lexer": "ipython3",
   "version": "3.11.13"
  }
 },
 "nbformat": 4,
 "nbformat_minor": 5
}
